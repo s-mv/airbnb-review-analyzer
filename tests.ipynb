{
 "cells": [
  {
   "cell_type": "code",
   "execution_count": 2,
   "metadata": {},
   "outputs": [],
   "source": [
    "import airbnb\n",
    "from bs4 import BeautifulSoup\n",
    "import requests\n",
    "from urllib.parse import urlparse"
   ]
  },
  {
   "cell_type": "code",
   "execution_count": 3,
   "metadata": {},
   "outputs": [],
   "source": [
    "REVIEWS_CONTAINER = (\n",
    "    \".di536pa.atm_ks_zryt35.atm_mk_h2mmj6.atm_26_1hbpp16\"\n",
    "    \".atm_vy_auwlz6.atm_j3_auwlz6.atm_iy_1osqo2v.atm_9s_1txwivl\"\n",
    "    \".atm_ar_1bp4okc.atm_70_1i7rd3n.atm_6a_1hl1osj.atm_6c_1hl1osj\"\n",
    "    \".atm_y_1bbsqr7.atm_16_kb7nvz.atm_12_1hrf63d.atm_1c_m2duij\"\n",
    "    \".atm_ks_15vqwwr__1yj3dog.atm_kd_glywfm_pfnrn2.atm_vy_1osqo2v__oggzyc\"\n",
    "    \".atm_5j_1hl1osj__oggzyc.atm_1c_w5iguh__p88qr9.atm_j3_6tyhld__oggzyc.dclclpo\"\n",
    ")\n",
    "\n",
    "REVIEW_ITEM = \".ll4r2nl.atm_kd_pg2kvz_1bqn0at\"\n",
    "\n",
    "\n",
    "def strip_reviews_link(link: str) -> str:\n",
    "    url = urlparse(link)\n",
    "    if \"airbnb\" not in url.netloc or \"/rooms/\" not in url.path:\n",
    "        return None\n",
    "\n",
    "    return f\"{url.scheme}://{url.netloc}{url.path}/reviews\"\n",
    "\n",
    "\n",
    "def strip_reviews(review_link: str):\n",
    "    pass\n"
   ]
  },
  {
   "cell_type": "code",
   "execution_count": 4,
   "metadata": {},
   "outputs": [
    {
     "name": "stdout",
     "output_type": "stream",
     "text": [
      "None\n"
     ]
    }
   ],
   "source": [
    "example_link = \"https://www.airbnb.co.in/rooms/753489119578553975?check_in=2023-12-15&check_out=2023-12-17&guests=1&adults=6&s=67&unique_share_id=e0a8ea9a-382b-4b9f-af19-34359fce4511\"\n",
    "\n",
    "link = airbnb.strip_reviews_link(example_link)\n",
    "res = requests.get(link)\n",
    "\n",
    "content = res.content\n",
    "\n",
    "soup = BeautifulSoup(content, \"html.parser\")\n",
    "\n",
    "print(soup.find(class_=airbnb.REVIEWS_CONTAINER))"
   ]
  },
  {
   "cell_type": "code",
   "execution_count": null,
   "metadata": {},
   "outputs": [],
   "source": [
    "soup"
   ]
  }
 ],
 "metadata": {
  "kernelspec": {
   "display_name": "scraper",
   "language": "python",
   "name": "python3"
  },
  "language_info": {
   "codemirror_mode": {
    "name": "ipython",
    "version": 3
   },
   "file_extension": ".py",
   "mimetype": "text/x-python",
   "name": "python",
   "nbconvert_exporter": "python",
   "pygments_lexer": "ipython3",
   "version": "3.10.12"
  }
 },
 "nbformat": 4,
 "nbformat_minor": 2
}
